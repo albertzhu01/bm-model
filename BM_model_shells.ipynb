{
 "cells": [
  {
   "cell_type": "markdown",
   "id": "6a3692dd-4d3c-428f-8739-768d99c80106",
   "metadata": {},
   "source": [
    "# Generating Shells (BM Model)"
   ]
  },
  {
   "cell_type": "code",
   "execution_count": 1,
   "id": "c144191e-daba-4c03-a1be-f827d051b054",
   "metadata": {
    "execution": {
     "iopub.execute_input": "2024-10-07T21:50:29.020992Z",
     "iopub.status.busy": "2024-10-07T21:50:29.019078Z",
     "iopub.status.idle": "2024-10-07T21:50:29.536665Z",
     "shell.execute_reply": "2024-10-07T21:50:29.535932Z",
     "shell.execute_reply.started": "2024-10-07T21:50:29.020992Z"
    }
   },
   "outputs": [],
   "source": [
    "import numpy as np\n",
    "import matplotlib.pyplot as plt"
   ]
  },
  {
   "cell_type": "markdown",
   "id": "526ad698-db8f-4654-818a-a209e51114de",
   "metadata": {},
   "source": [
    "## Define rotation matrix and some constants"
   ]
  },
  {
   "cell_type": "code",
   "execution_count": 2,
   "id": "88aa81bc-b9b5-4b62-b517-b2475954c389",
   "metadata": {
    "execution": {
     "iopub.execute_input": "2024-10-07T21:50:29.652296Z",
     "iopub.status.busy": "2024-10-07T21:50:29.651288Z",
     "iopub.status.idle": "2024-10-07T21:50:29.660288Z",
     "shell.execute_reply": "2024-10-07T21:50:29.659736Z",
     "shell.execute_reply.started": "2024-10-07T21:50:29.652296Z"
    }
   },
   "outputs": [],
   "source": [
    "def rotation_matrix(theta):\n",
    "    \"\"\"Create 2D rotation matrix\"\"\"\n",
    "    return np.array([[np.cos(theta), -np.sin(theta)], [np.sin(theta), np.cos(theta)]])"
   ]
  },
  {
   "cell_type": "code",
   "execution_count": 3,
   "id": "323ac78b-8bba-41a8-8a69-ec4d4cc1e60f",
   "metadata": {
    "execution": {
     "iopub.execute_input": "2024-10-07T21:50:30.755138Z",
     "iopub.status.busy": "2024-10-07T21:50:30.755050Z",
     "iopub.status.idle": "2024-10-07T21:50:30.766834Z",
     "shell.execute_reply": "2024-10-07T21:50:30.765842Z",
     "shell.execute_reply.started": "2024-10-07T21:50:30.755138Z"
    }
   },
   "outputs": [],
   "source": [
    "a = 1.42  # Angstroms\n",
    "\n",
    "# Direct lattice vectors\n",
    "a1 = a * np.array([np.sqrt(3), 0])\n",
    "a2 = a / 2 * np.array([-np.sqrt(3), 3])\n",
    "\n",
    "# Reciprocal lattice vectors\n",
    "G_1 = 2 * np.pi / a * np.array([1 / np.sqrt(3), 1 / 3])\n",
    "G_2 = 2 * np.pi / a * np.array([0, 2 / 3])\n",
    "\n",
    "phi = 2 * np.pi / 3\n",
    "w = 110  # meV\n",
    "w_1 = w\n",
    "factor = 1\n",
    "w_0 = factor * w_1\n",
    "T_b = np.array([[w_0, w_1], [w_1, w_0]])  # Hopping matrix in k space\n",
    "\n",
    "# Jung paper version\n",
    "T_tl = np.array([[w_0, w_1 * np.exp(-1j * phi)], [w_1 * np.exp(1j * phi), w_0]])  # Hopping matrix in k space\n",
    "T_tr = np.array([[w_0, w_1 * np.exp(1j * phi)], [w_1 * np.exp(-1j * phi), w_0]])  # Hopping matrix in k space\n",
    "\n",
    "# BM Paper version -- equivalent to Jung paper version\n",
    "# T_tr = w * np.array([[np.exp(-1j * phi), 1], [np.exp(1j * phi), np.exp(-1j * phi)]])\n",
    "# T_tl = w * np.array([[np.exp(1j * phi), 1], [np.exp(-1j * phi), np.exp(1j * phi)]])"
   ]
  },
  {
   "cell_type": "code",
   "execution_count": 4,
   "id": "65a7396b-01d3-410a-9800-fdc40f067f00",
   "metadata": {
    "execution": {
     "iopub.execute_input": "2024-10-07T21:50:32.251102Z",
     "iopub.status.busy": "2024-10-07T21:50:32.251102Z",
     "iopub.status.idle": "2024-10-07T21:50:32.257711Z",
     "shell.execute_reply": "2024-10-07T21:50:32.256914Z",
     "shell.execute_reply.started": "2024-10-07T21:50:32.251102Z"
    }
   },
   "outputs": [],
   "source": [
    "#### Twist angle\n",
    "theta = 1 * np.pi / 180\n",
    "\n",
    "# Reciprocal lattice vectors of twisted layer\n",
    "G_1r = rotation_matrix(theta) @ G_1\n",
    "G_2r = rotation_matrix(theta) @ G_2\n",
    "\n",
    "K_1 = (G_1 + G_2) / 3\n",
    "K_1r = (G_1r + G_2r) / 3\n",
    "k_theta = np.linalg.norm(K_1r - K_1)  # Moire 1st BZ sidelength\n",
    "\n",
    "# Hopping vectors in k space\n",
    "q_b = k_theta * np.array([0, -1])\n",
    "q_tl = k_theta * np.array([-np.sqrt(3), 1]) / 2\n",
    "q_tr = k_theta * np.array([np.sqrt(3), 1]) / 2\n",
    "\n",
    "# Moire reciprocal lattice vectors\n",
    "M_1 = q_tr - q_tl\n",
    "M_2 = q_tr - q_b\n",
    "M_3 = q_tl - q_b\n",
    "M_4 = q_tl - q_tr\n",
    "M_5 = q_b - q_tr\n",
    "M_6 = q_b - q_tl"
   ]
  },
  {
   "cell_type": "markdown",
   "id": "5528d53c-48a4-4657-9146-08fe07f92b38",
   "metadata": {},
   "source": [
    "## Generate \"shells\" (momenta within a cutoff radius)"
   ]
  },
  {
   "cell_type": "code",
   "execution_count": 5,
   "id": "db60f7e1-b35a-46c3-b392-4b949136b043",
   "metadata": {
    "execution": {
     "iopub.execute_input": "2024-10-07T21:50:33.915409Z",
     "iopub.status.busy": "2024-10-07T21:50:33.915409Z",
     "iopub.status.idle": "2024-10-07T21:50:33.924342Z",
     "shell.execute_reply": "2024-10-07T21:50:33.924114Z",
     "shell.execute_reply.started": "2024-10-07T21:50:33.915409Z"
    }
   },
   "outputs": [],
   "source": [
    "def search(m, cutoff, k, prev_id, curr_id, direction):\n",
    "    \"\"\"Search for a neighbor\n",
    "    Args:\n",
    "    - m (int): a number that basically tells us whether we are in the top\n",
    "               layer or bottom layer\n",
    "    - cutoff (float): maximum momentum of any site we use for the band calculation\n",
    "    - k (np.array): k vector of current momentum site\n",
    "    - prev_id (int): Index of previous momentum site during the search\n",
    "    - curr_id (int): Index of current momentum site being searched\n",
    "    - direction (int): Either -1, 0, or 1, corresponding to which direction we had\n",
    "                       to travel to get from the previous site to the current site\n",
    "\n",
    "    Returns:\n",
    "    - prev_id (int): Index of the current site (which will be the previous site\n",
    "                     for the next search)\n",
    "    - curr_id (int): Same value as prev_id except in cases where the site is \n",
    "                     outside the cutoff or has already been searched, in which case\n",
    "                     curr_id is equal to -1\n",
    "    \"\"\"\n",
    "    # Return -1 as the curr_id if we are outside the cutoff radius, indicating that\n",
    "    # we should stop searching this branch\n",
    "    if np.linalg.norm(k) > cutoff:\n",
    "        return prev_id, -1\n",
    "\n",
    "    # Looks cryptic, but basically if we arrive at a site that has already been\n",
    "    # searched, then we should just include it as a neighbor of the previous\n",
    "    # site (and vice versa) and then stop searching this branch\n",
    "    if len([idx for idx, el in enumerate(list(k_dict.values())) if np.allclose(el, k)]) > 0:\n",
    "        curr_id = list(k_dict.keys())[[idx for idx, el in enumerate(list(k_dict.values())) if np.allclose(el, k)][0]]\n",
    "        neighbors_dict[prev_id].add((curr_id, direction))\n",
    "        neighbors_dict[curr_id].add((prev_id, direction))\n",
    "        return prev_id, -1\n",
    "\n",
    "    # If none of the above are true, then we have arrived at a new site that\n",
    "    # should be included in our band calculations, so we generate a new index\n",
    "    # for that site\n",
    "    while curr_id in visited_list:\n",
    "        curr_id += 1\n",
    "\n",
    "    # Add the current site as a neighbor of the previous site (and vice versa). \n",
    "    # I don't remember why I used a set instead of a list of neighbors--presumably\n",
    "    # I was having problems with duplicates, so using a set resolved that problem\n",
    "    if prev_id not in neighbors_dict:\n",
    "        neighbors_dict[prev_id] = set([(curr_id, direction)])\n",
    "    else:\n",
    "        neighbors_dict[prev_id].add((curr_id, direction))\n",
    "    if curr_id not in neighbors_dict:\n",
    "        neighbors_dict[curr_id] = set([(prev_id, direction)])\n",
    "    else:\n",
    "        neighbors_dict[curr_id].add((prev_id, direction))\n",
    "\n",
    "    # Mark the site as visited and record its momentum and layer (1 if top layer\n",
    "    # and -1 if bottom layer)\n",
    "    visited_list.append(curr_id)\n",
    "    k_dict[curr_id] = k\n",
    "    layer_dict[curr_id] = 1 if m % 2 == 1 else -1\n",
    "    prev_id = curr_id\n",
    "    return prev_id, curr_id"
   ]
  },
  {
   "cell_type": "code",
   "execution_count": 6,
   "id": "eb6429de-1733-4f85-9369-222ea9d9ab7b",
   "metadata": {
    "execution": {
     "iopub.execute_input": "2024-10-07T21:50:35.395406Z",
     "iopub.status.busy": "2024-10-07T21:50:35.395406Z",
     "iopub.status.idle": "2024-10-07T21:50:35.403709Z",
     "shell.execute_reply": "2024-10-07T21:50:35.403330Z",
     "shell.execute_reply.started": "2024-10-07T21:50:35.395406Z"
    }
   },
   "outputs": [],
   "source": [
    "# These functions may be redundant, but they were the most systematic way I\n",
    "# could think of at the time\n",
    "\n",
    "# Search \"curr_id\" by traveling q_b (or -q_b) from \"prev_id\"\n",
    "def search_b(m, cutoff, k, prev_id, curr_id):\n",
    "    prev_id, curr_id = search(m, cutoff, k, prev_id, curr_id, 0)\n",
    "\n",
    "    # Stop searching if any of the conditions in \"search\" were met\n",
    "    if curr_id == -1:\n",
    "        return\n",
    "\n",
    "    # Else, search the top right, then the top left (order is arbitrary).\n",
    "    # The value of m determine whether we need to add or subtract q_tr or\n",
    "    # q_tl from our current k vector to get to the next site\n",
    "    search_tr(m - 1, cutoff, k + (-1) ** (m - 1) * q_tr, prev_id, curr_id)\n",
    "    search_tl(m - 1, cutoff, k + (-1) ** (m - 1) * q_tl, prev_id, curr_id)\n",
    "\n",
    "\n",
    "# Same logic as search_b\n",
    "def search_tr(m, cutoff, k, prev_id, curr_id):\n",
    "    prev_id, curr_id = search(m, cutoff, k, prev_id, curr_id, 1)\n",
    "    if curr_id == -1:\n",
    "        return\n",
    "    search_b(m - 1, cutoff, k + (-1) ** (m - 1) * q_b, prev_id, curr_id)\n",
    "    search_tl(m - 1, cutoff, k + (-1) ** (m - 1) * q_tl, prev_id, curr_id)\n",
    "\n",
    "\n",
    "# Same logic as search_b\n",
    "def search_tl(m, cutoff, k, prev_id, curr_id):\n",
    "    prev_id, curr_id = search(m, cutoff, k, prev_id, curr_id, -1)\n",
    "    if curr_id == -1:\n",
    "        return\n",
    "    search_b(m - 1, cutoff, k + (-1) ** (m - 1) * q_b, prev_id, curr_id)\n",
    "    search_tr(m - 1, cutoff, k + (-1) ** (m - 1) * q_tr, prev_id, curr_id)"
   ]
  },
  {
   "cell_type": "code",
   "execution_count": 7,
   "id": "9d6c44d1-9390-4b32-9253-effc28f60737",
   "metadata": {
    "execution": {
     "iopub.execute_input": "2024-10-07T21:50:36.108169Z",
     "iopub.status.busy": "2024-10-07T21:50:36.108169Z",
     "iopub.status.idle": "2024-10-07T21:50:36.187107Z",
     "shell.execute_reply": "2024-10-07T21:50:36.187107Z",
     "shell.execute_reply.started": "2024-10-07T21:50:36.108169Z"
    }
   },
   "outputs": [],
   "source": [
    "num_shells = 3  # This probably doesn't even need to be used\n",
    "\n",
    "# Define cutoff radius--it can pretty much be any number\n",
    "cutoff = np.linalg.norm(num_shells * q_b - (num_shells - 1) * q_tr) + 1e-6\n",
    "\n",
    "# Track the k vector for each row/column of the final Hamiltonian\n",
    "# since we need the value to compute the Dirac Hamiltonian\n",
    "k_dict = {0: np.zeros(2)}\n",
    "\n",
    "# Track whether the momenta are in the top layer or bottom layer\n",
    "# (needed to compute the Dirac Hamiltonian)\n",
    "layer_dict = {0: 1}\n",
    "\n",
    "# Track neighboring momenta. Each entry will be of the form\n",
    "# site_idx: {(neighbor_idx, direction)}, where direction is either\n",
    "# 0, 1, or -1, which corresponds to T_b, T_tr, or T_tl\n",
    "neighbors_dict = {}\n",
    "\n",
    "# Track which momentum sites have been visited\n",
    "visited_list = [0]\n",
    "\n",
    "# Index of the starting momentum site (k = 0)\n",
    "prev_id = curr_id = 0\n",
    "\n",
    "# Start searching from the bottom of the initial site (arbitrary choice,\n",
    "# we could've started searching to the top right or top left as well)\n",
    "search_b(2 * (num_shells - 1), cutoff, q_b, prev_id, curr_id)\n",
    "\n",
    "# Generate a new curr_id for the next site we will search\n",
    "while curr_id in visited_list:\n",
    "    curr_id += 1\n",
    "search_tr(2 * (num_shells - 1), cutoff, q_tr, prev_id, curr_id)\n",
    "\n",
    "# Generate a new curr_id for the next site we will search\n",
    "while curr_id in visited_list:\n",
    "    curr_id += 1\n",
    "search_tl(2 * (num_shells - 1), cutoff, q_tl, prev_id, curr_id)"
   ]
  },
  {
   "cell_type": "markdown",
   "id": "8fa49601-6f70-4347-acb1-ca7145eb3ec7",
   "metadata": {},
   "source": [
    "## Visualize momenta within the cutoff radius"
   ]
  },
  {
   "cell_type": "code",
   "execution_count": 8,
   "id": "2ab9f643-2c8c-4698-9c6c-973fb29a5f57",
   "metadata": {
    "execution": {
     "iopub.execute_input": "2024-10-07T21:50:36.964929Z",
     "iopub.status.busy": "2024-10-07T21:50:36.963925Z",
     "iopub.status.idle": "2024-10-07T21:50:37.113870Z",
     "shell.execute_reply": "2024-10-07T21:50:37.113870Z",
     "shell.execute_reply.started": "2024-10-07T21:50:36.964929Z"
    }
   },
   "outputs": [
    {
     "data": {
      "text/plain": [
       "<matplotlib.collections.PathCollection at 0x242aee02550>"
      ]
     },
     "execution_count": 8,
     "metadata": {},
     "output_type": "execute_result"
    },
    {
     "data": {
      "image/png": "[encoded data removed]",
      "text/plain": [
       "<Figure size 600x600 with 1 Axes>"
      ]
     },
     "metadata": {},
     "output_type": "display_data"
    }
   ],
   "source": [
    "f = plt.figure(figsize=(3, 3), dpi=200)\n",
    "plt.scatter(np.array(list((k_dict.values())))[:, 0], np.array(list((k_dict.values())))[:, 1], s=5)"
   ]
  },
  {
   "cell_type": "code",
   "execution_count": null,
   "id": "f08f6817-0a2a-49e2-9de6-52f51945d89f",
   "metadata": {},
   "outputs": [],
   "source": []
  }
 ],
 "metadata": {
  "kernelspec": {
   "display_name": "Python 3 (ipykernel)",
   "language": "python",
   "name": "python3"
  },
  "language_info": {
   "codemirror_mode": {
    "name": "ipython",
    "version": 3
   },
   "file_extension": ".py",
   "mimetype": "text/x-python",
   "name": "python",
   "nbconvert_exporter": "python",
   "pygments_lexer": "ipython3",
   "version": "3.9.19"
  }
 },
 "nbformat": 4,
 "nbformat_minor": 5
}
